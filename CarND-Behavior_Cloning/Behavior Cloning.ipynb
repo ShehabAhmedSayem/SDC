{
 "cells": [
  {
   "cell_type": "code",
   "execution_count": 1,
   "metadata": {
    "collapsed": false
   },
   "outputs": [
    {
     "name": "stderr",
     "output_type": "stream",
     "text": [
      "Using TensorFlow backend.\n"
     ]
    }
   ],
   "source": [
    "#Imports\n",
    "import os\n",
    "import pickle\n",
    "\n",
    "import cv2\n",
    "import tensorflow as tf\n",
    "import numpy as np\n",
    "import json\n",
    "\n",
    "from skimage import transform as transf\n",
    "from sklearn.model_selection import train_test_split\n",
    "from sklearn.utils import shuffle\n",
    "\n",
    "import random\n",
    "import csv\n",
    "\n",
    "from keras.models import Sequential\n",
    "from keras.layers.core import Dense, Activation, Flatten, Dropout\n",
    "from keras.layers.convolutional import Convolution2D\n",
    "from keras.layers.pooling import MaxPooling2D\n",
    "from keras.regularizers import l2\n",
    "\n",
    "import matplotlib.pyplot as plt\n",
    "%matplotlib inline"
   ]
  },
  {
   "cell_type": "code",
   "execution_count": 2,
   "metadata": {
    "collapsed": true
   },
   "outputs": [],
   "source": [
    "train_samples_per_epoch = 16384\n",
    "valid_samples_per_epoch = 8192\n",
    "trainBatchSize = 128\n",
    "validationBatchSize = 128\n",
    "mean = 83.587824273 #Pre Calculated\n",
    "\n",
    "xCropUp = .35      # % of crop\n",
    "xCropBottom = .9   #\n",
    "\n",
    "imageWidth = 200\n",
    "imageHeight = 60\n",
    "list_imgs = []"
   ]
  },
  {
   "cell_type": "code",
   "execution_count": 3,
   "metadata": {
    "collapsed": false
   },
   "outputs": [],
   "source": [
    "def ReadAndProcessImage(path):\n",
    "    img = cv2.imread(path)  # opencv opens images in BGR format\n",
    "    global list_imgs\n",
    "    list_imgs.append(img)\n",
    "    #print(img.shape)\n",
    "    img = CropImage(img)\n",
    "    img = cv2.resize(img, (imageWidth, imageHeight))\n",
    "    #img = cv2.cvtColor(img, cv2.COLOR_BGR2HSV)  # convert to standard RGB\n",
    "    img = np.reshape(img, (1, imageHeight, imageWidth, 3))\n",
    "    return img\n",
    "\n",
    "def crop_image(image, y1, y2, x1, x2):\n",
    "    \"\"\"\n",
    "    crop image into respective size\n",
    "    give: the crop extent\n",
    "    \"\"\"\n",
    "    return image[y1:y2, x1:x2]\n",
    "def CropImage(image):\n",
    "    height = len(image)\n",
    "    #print(height)\n",
    "    return image[int(height*xCropUp):int(height*xCropBottom), :, :]\n",
    "\n",
    "def visualize_random_images(list_imgs):\n",
    "    '''\n",
    "    list_imgs = list of index of images to be visualized\n",
    "    '''\n",
    "    print(\"number of images: \",len(list_imgs))\n",
    "    _, ax = plt.subplots( int(len(list_imgs)/2), 2, figsize=(20,40))\n",
    "    row, col = 0, 0  \n",
    "    for idx in range(len(list_imgs)):\n",
    "        img = list_imgs[idx]\n",
    "        print('r,c: ',row,col,img.shape)\n",
    "        ax[row,col].imshow(img)\n",
    "        #ax[row, col].annotate(int(y_dataset[idx]), xy=(2, 5), color='red', fontsize='20')\n",
    "\n",
    "        ax[row,col].axis('off')\n",
    "        col += 1\n",
    "        if col == 2:\n",
    "            row += 1\n",
    "            col = 0\n",
    "    plt.show()\n",
    "    \n",
    "def trans_image(steer):\n",
    "    \n",
    "    trans_range = 50\n",
    "\n",
    "    # horizontal translation with 0.008 steering compensation per pixel\n",
    "    tr_x = trans_range * np.random.uniform() - trans_range / 2\n",
    "    steer_ang = steer + tr_x / trans_range * .4\n",
    "    if(steer_ang > 1):\n",
    "        steer_ang = 1\n",
    "    elif(steer_ang < -1):\n",
    "        steer_ang = -1\n",
    "    \n",
    "    return steer_ang\n"
   ]
  },
  {
   "cell_type": "code",
   "execution_count": 4,
   "metadata": {
    "collapsed": false
   },
   "outputs": [
    {
     "name": "stdout",
     "output_type": "stream",
     "text": [
      "18231 17826\n"
     ]
    }
   ],
   "source": [
    "dir = './data/'\n",
    "value = []\n",
    "with open(dir + 'driving_log.csv', 'r') as drivingLog:\n",
    "    reader = csv.reader(drivingLog)\n",
    "    drivingLog = list(reader)\n",
    "    \n",
    "dir = './data1/'\n",
    "with open(dir + 'driving_log.csv', 'r') as drivingLog1:\n",
    "    reader = csv.reader(drivingLog1)\n",
    "    drivingLog = list(reader) + drivingLog\n",
    "dir = './data2/'\n",
    "with open(dir + 'driving_log.csv', 'r') as drivingLog1:\n",
    "    reader = csv.reader(drivingLog1)\n",
    "    drivingLog = list(reader) + drivingLog\n",
    "\n",
    "dir = './data3/'\n",
    "with open(dir + 'driving_log.csv', 'r') as drivingLog1:\n",
    "    reader = csv.reader(drivingLog1)\n",
    "    drivingLog = list(reader) + drivingLog\n",
    "\n",
    "dir = './data4/'\n",
    "with open(dir + 'driving_log.csv', 'r') as drivingLog1:\n",
    "    reader = csv.reader(drivingLog1)\n",
    "    drivingLog = list(reader) + drivingLog\n",
    "\n",
    "dir = './session_data/'\n",
    "with open(dir + 'driving_log.csv', 'r') as drivingLog1:\n",
    "    reader = csv.reader(drivingLog1)\n",
    "    drivingLog = list(reader) + drivingLog\n",
    "drivingLog = shuffle(drivingLog)\n",
    "\n",
    "global negative\n",
    "global positive\n",
    "negative = 0\n",
    "positive = 0\n",
    "\n",
    "zero = 0\n",
    "\n",
    "drivingLog = shuffle(drivingLog)\n",
    "for row in drivingLog:\n",
    "    indx = np.random.permutation(3)\n",
    "    steering = float(row[3])\n",
    "\n",
    "    for i in range(3):\n",
    "\n",
    "        if indx[i] is 1:  # left camera image\n",
    "            steering = min(1, steering + .25)\n",
    "        elif indx[i] is 2:  # right camera image\n",
    "            steering = max(-1, steering - .25)\n",
    "\n",
    "        file = row[indx[i]]\n",
    "        if len(file) == 0:\n",
    "            continue\n",
    "        #if (steering < -0.9 or steering > 0.1):\n",
    "            \n",
    "        choice = random.randint(1, 3)\n",
    "        if choice == 1:\n",
    "            value.append(-steering)\n",
    "            positive += -steering > 0\n",
    "            negative += -steering < 0\n",
    "\n",
    "        elif choice == 2:\n",
    "            value.append(steering)\n",
    "            positive += steering > 0\n",
    "            negative += steering < 0                \n",
    "\n",
    "        '''elif steering == 0:\n",
    "            zero+=1\n",
    "            if zero % 50 == 0:\n",
    "                value.append(steering)\n",
    "            steering = trans_image(steering)\n",
    "            if (negative > positive and steering > 0) or (negative < positive and steering < 0):\n",
    "                value.append(steering)\n",
    "                positive += steering > 0\n",
    "                negative += steering < 0'''\n",
    "print(positive,negative)\n",
    "value = np.around(np.vstack(np.asarray(value)), decimals=2)\n"
   ]
  },
  {
   "cell_type": "code",
   "execution_count": 5,
   "metadata": {
    "collapsed": false
   },
   "outputs": [
    {
     "name": "stdout",
     "output_type": "stream",
     "text": [
      "[-1.   -0.95 -0.94 -0.93 -0.92 -0.89 -0.84 -0.83 -0.81 -0.8  -0.79 -0.78\n",
      " -0.77 -0.76 -0.75 -0.74 -0.73 -0.72 -0.71 -0.7  -0.69 -0.68 -0.67 -0.66\n",
      " -0.65 -0.64 -0.63 -0.62 -0.61 -0.6  -0.59 -0.58 -0.57 -0.56 -0.55 -0.54\n",
      " -0.53 -0.52 -0.51 -0.5  -0.49 -0.48 -0.47 -0.46 -0.45 -0.44 -0.43 -0.42\n",
      " -0.41 -0.4  -0.39 -0.38 -0.37 -0.36 -0.35 -0.34 -0.33 -0.32 -0.31 -0.3\n",
      " -0.29 -0.28 -0.27 -0.26 -0.25 -0.24 -0.23 -0.22 -0.21 -0.2  -0.19 -0.18\n",
      " -0.17 -0.16 -0.15 -0.14 -0.13 -0.12 -0.11 -0.1  -0.09 -0.08 -0.07 -0.06\n",
      " -0.05 -0.04 -0.03 -0.02 -0.01  0.    0.01  0.02  0.03  0.04  0.05  0.06\n",
      "  0.07  0.08  0.09  0.1   0.11  0.12  0.13  0.14  0.15  0.16  0.17  0.18\n",
      "  0.19  0.2   0.21  0.22  0.23  0.24  0.25  0.26  0.27  0.28  0.29  0.3\n",
      "  0.31  0.32  0.33  0.34  0.35  0.36  0.37  0.38  0.39  0.4   0.41  0.42\n",
      "  0.43  0.44  0.45  0.46  0.47  0.48  0.49  0.5   0.51  0.52  0.53  0.54\n",
      "  0.55  0.56  0.57  0.58  0.59  0.6   0.61  0.62  0.63  0.64  0.65  0.66\n",
      "  0.67  0.68  0.69  0.7   0.71  0.72  0.73  0.74  0.75  0.76  0.77  0.78\n",
      "  0.79  0.8   0.81  0.82  0.83  0.84  0.85  0.89  0.92  0.93  0.94  0.95\n",
      "  0.97  1.  ]\n",
      "[-1.  -0.9 -0.8 -0.7 -0.6 -0.5 -0.4 -0.3 -0.2 -0.1 -0.   0.1  0.2  0.3  0.4\n",
      "  0.5  0.6  0.7  0.8  0.9  1. ]\n",
      "[-10.  -9.  -8.  -7.  -6.  -5.  -4.  -3.  -2.  -1.  -0.   1.   2.   3.   4.\n",
      "   5.   6.   7.   8.   9.  10.]\n"
     ]
    }
   ],
   "source": [
    "val = value\n",
    "print(np.unique(val))\n",
    "len(np.unique(val))\n",
    "value = np.around(val,decimals=1)\n",
    "print(np.unique(value))\n",
    "value *= 10\n",
    "print(np.unique(value))"
   ]
  },
  {
   "cell_type": "code",
   "execution_count": 6,
   "metadata": {
    "collapsed": false
   },
   "outputs": [
    {
     "name": "stdout",
     "output_type": "stream",
     "text": [
      "[[-0.]\n",
      " [-0.]\n",
      " [ 0.]\n",
      " ..., \n",
      " [ 0.]\n",
      " [ 0.]\n",
      " [-0.]]\n",
      "classes:  21\n",
      "-10.0 3\n",
      "-9.0 11\n",
      "-8.0 34\n",
      "-7.0 50\n",
      "-6.0 129\n",
      "-5.0 225\n",
      "-4.0 717\n",
      "-3.0 1983\n",
      "-2.0 5352\n",
      "-1.0 5932\n",
      "-0.0 71041\n",
      "1.0 6034\n",
      "2.0 5502\n",
      "3.0 2058\n",
      "4.0 745\n",
      "5.0 225\n",
      "6.0 138\n",
      "7.0 39\n",
      "8.0 29\n",
      "9.0 10\n",
      "10.0 5\n",
      "21\n",
      "------- \n",
      "Highest count: 71041.0 (class 0)\n",
      "Lowest count: 3.0 (class 11)\n",
      "------- \n"
     ]
    },
    {
     "name": "stderr",
     "output_type": "stream",
     "text": [
      "C:\\Program Files\\Anaconda3\\lib\\site-packages\\ipykernel\\__main__.py:16: VisibleDeprecationWarning: using a non-integer number instead of an integer will result in an error in the future\n"
     ]
    },
    {
     "data": {
      "image/png": "[encoded data removed]",
      "text/plain": [
       "<matplotlib.figure.Figure at 0x1dfd2c27a58>"
      ]
     },
     "metadata": {},
     "output_type": "display_data"
    },
    {
     "ename": "NameError",
     "evalue": "name 'sign_names' is not defined",
     "output_type": "error",
     "traceback": [
      "\u001b[0;31m---------------------------------------------------------------------------\u001b[0m",
      "\u001b[0;31mNameError\u001b[0m                                 Traceback (most recent call last)",
      "\u001b[0;32m<ipython-input-6-2c01ed14fb0b>\u001b[0m in \u001b[0;36m<module>\u001b[0;34m()\u001b[0m\n\u001b[1;32m     35\u001b[0m \u001b[0msign_name_table\u001b[0m \u001b[1;33m=\u001b[0m \u001b[0mPrettyTable\u001b[0m\u001b[1;33m(\u001b[0m\u001b[1;33m)\u001b[0m\u001b[1;33m\u001b[0m\u001b[0m\n\u001b[1;32m     36\u001b[0m \u001b[0msign_name_table\u001b[0m\u001b[1;33m.\u001b[0m\u001b[0mfield_names\u001b[0m \u001b[1;33m=\u001b[0m \u001b[1;33m[\u001b[0m\u001b[1;34m'class value'\u001b[0m\u001b[1;33m,\u001b[0m \u001b[1;34m'Name of Traffic sign'\u001b[0m\u001b[1;33m]\u001b[0m\u001b[1;33m\u001b[0m\u001b[0m\n\u001b[0;32m---> 37\u001b[0;31m \u001b[1;32mfor\u001b[0m \u001b[0mi\u001b[0m \u001b[1;32min\u001b[0m \u001b[0mrange\u001b[0m\u001b[1;33m(\u001b[0m\u001b[0mlen\u001b[0m\u001b[1;33m(\u001b[0m\u001b[0msign_names\u001b[0m\u001b[1;33m)\u001b[0m\u001b[1;33m)\u001b[0m\u001b[1;33m:\u001b[0m\u001b[1;33m\u001b[0m\u001b[0m\n\u001b[0m\u001b[1;32m     38\u001b[0m     \u001b[0msign_name_table\u001b[0m\u001b[1;33m.\u001b[0m\u001b[0madd_row\u001b[0m\u001b[1;33m(\u001b[0m\u001b[1;33m[\u001b[0m\u001b[0msign_names\u001b[0m\u001b[1;33m[\u001b[0m\u001b[0mi\u001b[0m\u001b[1;33m]\u001b[0m\u001b[1;33m[\u001b[0m\u001b[1;36m0\u001b[0m\u001b[1;33m]\u001b[0m\u001b[1;33m,\u001b[0m \u001b[0msign_names\u001b[0m\u001b[1;33m[\u001b[0m\u001b[0mi\u001b[0m\u001b[1;33m]\u001b[0m\u001b[1;33m[\u001b[0m\u001b[1;36m1\u001b[0m\u001b[1;33m]\u001b[0m\u001b[1;33m]\u001b[0m \u001b[1;33m)\u001b[0m\u001b[1;33m\u001b[0m\u001b[0m\n\u001b[1;32m     39\u001b[0m \u001b[1;33m\u001b[0m\u001b[0m\n",
      "\u001b[0;31mNameError\u001b[0m: name 'sign_names' is not defined"
     ]
    }
   ],
   "source": [
    "from prettytable import PrettyTable\n",
    "### DATA EXPLORATION : class distribution\n",
    "num_classes = 0\n",
    "\n",
    "\n",
    "def get_count_imgs_per_class(y, verbose=False):\n",
    "    print(y)\n",
    "    global num_classes\n",
    "    num_classes = len(np.unique(y))\n",
    "    print(\"classes: \",num_classes)\n",
    "    count_imgs_per_class = np.zeros( num_classes )\n",
    "\n",
    "    for this_class in np.unique(y):\n",
    "        if verbose: \n",
    "            print('class {} | count {}'.format(this_class, np.sum( y  == this_class )) )\n",
    "        count_imgs_per_class[this_class] = np.sum(y == this_class )\n",
    "        print(this_class,np.sum(y == this_class ))\n",
    "    #sanity check\n",
    "    return count_imgs_per_class\n",
    "\n",
    "\n",
    "class_freq = get_count_imgs_per_class(value)\n",
    "print(num_classes)\n",
    "print('------- ')\n",
    "print('Highest count: {} (class {})'.format(np.max(class_freq), np.argmax(class_freq)))\n",
    "print('Lowest count: {} (class {})'.format(np.min(class_freq), np.argmin(class_freq)))\n",
    "print('------- ')\n",
    "plt.bar(np.arange(num_classes), class_freq , align='center')\n",
    "plt.xlabel('class')\n",
    "plt.ylabel('Frequency')\n",
    "plt.xlim([-1, 43])\n",
    "plt.title(\"class frequency in Training set\")\n",
    "plt.show()\n",
    "\n",
    "sign_name_table = PrettyTable()\n",
    "sign_name_table.field_names = ['class value', 'Name of Traffic sign']\n",
    "for i in range(len(sign_names)):\n",
    "    sign_name_table.add_row([sign_names[i][0], sign_names[i][1]] )\n",
    "    \n",
    "print(sign_name_table)"
   ]
  },
  {
   "cell_type": "code",
   "execution_count": null,
   "metadata": {
    "collapsed": true
   },
   "outputs": [],
   "source": []
  },
  {
   "cell_type": "markdown",
   "metadata": {},
   "source": [
    "#### "
   ]
  },
  {
   "cell_type": "markdown",
   "metadata": {
    "collapsed": false
   },
   "source": [
    "## from prettytable import PrettyTable\n",
    "### DATA EXPLORATION : class distribution\n",
    "num_classes = 0\n",
    "\n",
    "\n",
    "def get_count_imgs_per_class(y, verbose=False):\n",
    "    print(y)\n",
    "    global num_classes\n",
    "    num_classes = len(np.unique(y))\n",
    "    print(\"classes: \",num_classes)\n",
    "    count_imgs_per_class = np.zeros( num_classes )\n",
    "\n",
    "    for this_class in np.unique(y):\n",
    "        if verbose: \n",
    "            print('class {} | count {}'.format(this_class, np.sum( y  == this_class )) )\n",
    "        count_imgs_per_class[this_class] = np.sum(y == this_class )\n",
    "    #sanity check\n",
    "    return count_imgs_per_class\n",
    "\n",
    "\n",
    "class_freq = get_count_imgs_per_class(value)\n",
    "print(num_classes)\n",
    "print('------- ')\n",
    "print('Highest count: {} (class {})'.format(np.max(class_freq), np.argmax(class_freq)))\n",
    "print('Lowest count: {} (class {})'.format(np.min(class_freq), np.argmin(class_freq)))\n",
    "print('------- ')\n",
    "plt.bar(np.arange(num_classes), class_freq , align='center')\n",
    "plt.xlabel('class')\n",
    "plt.ylabel('Frequency')\n",
    "plt.xlim([-1, 43])\n",
    "plt.title(\"class frequency in Training set\")\n",
    "plt.show()\n",
    "\n",
    "sign_name_table = PrettyTable()\n",
    "sign_name_table.field_names = ['class value', 'Name of Traffic sign']\n",
    "for i in range(len(sign_names)):\n",
    "    sign_name_table.add_row([sign_names[i][0], sign_names[i][1]] )\n",
    "    \n",
    "print(sign_name_table)"
   ]
  },
  {
   "cell_type": "code",
   "execution_count": 7,
   "metadata": {
    "collapsed": false
   },
   "outputs": [
    {
     "data": {
      "image/png": "[encoded data removed]",
      "text/plain": [
       "<matplotlib.figure.Figure at 0x1dfd42aabe0>"
      ]
     },
     "metadata": {},
     "output_type": "display_data"
    }
   ],
   "source": [
    "import matplotlib.pyplot as plt\n",
    "import numpy as np\n",
    "\n",
    "#import plotly.plotly as py\n",
    "# Learn about API authentication here: https://plot.ly/python/getting-started\n",
    "# Find your api_key here: https://plot.ly/settings/api\n",
    "\n",
    "\n",
    "plt.hist(val)\n",
    "plt.title(\"Gaussian Histogram\")\n",
    "plt.xlabel(\"Value\")\n",
    "plt.ylabel(\"Frequency\")\n",
    "\n",
    "fig = plt.gcf()\n",
    "\n",
    "#plot_url = py.plot_mpl(fig, filename='mpl-basic-histogram')"
   ]
  },
  {
   "cell_type": "code",
   "execution_count": 53,
   "metadata": {
    "collapsed": false
   },
   "outputs": [
    {
     "name": "stdout",
     "output_type": "stream",
     "text": [
      "<class 'int'>\n"
     ]
    }
   ],
   "source": [
    "# visualize\n",
    "\n",
    "values = []\n",
    "\n",
    "dir = './data/'\n",
    "with open(dir+'driving_log.csv', 'r') as drivingLog:\n",
    "    reader = csv.reader(drivingLog)\n",
    "    drivingLog = list(reader)\n",
    "    drivingLog = shuffle(drivingLog)\n",
    "    batchx , batchy= [], []\n",
    "    ind = 0\n",
    "    row, col = 0, 0 \n",
    "    print(type(row))\n",
    "    for row in drivingLog:\n",
    "        indx = np.random.permutation(3)\n",
    "        steering = float(row[3])\n",
    "        values.append(steering)\n",
    "            \n",
    "            \n",
    "            \n",
    "        #if(ind == 2):\n",
    "        #    break\n",
    "    #visualize_random_images(list_imgs)\n",
    "            "
   ]
  },
  {
   "cell_type": "code",
   "execution_count": 54,
   "metadata": {
    "collapsed": false
   },
   "outputs": [
    {
     "data": {
      "image/png": "[encoded data removed]",
      "text/plain": [
       "<matplotlib.figure.Figure at 0x24387eafe10>"
      ]
     },
     "metadata": {},
     "output_type": "display_data"
    }
   ],
   "source": [
    "import matplotlib.pyplot as plt\n",
    "import numpy as np\n",
    "\n",
    "#import plotly.plotly as py\n",
    "# Learn about API authentication here: https://plot.ly/python/getting-started\n",
    "# Find your api_key here: https://plot.ly/settings/api\n",
    "\n",
    "gaussian_numbers = np.random.randn(1000)\n",
    "plt.hist(values)\n",
    "plt.title(\"Gaussian Histogram\")\n",
    "plt.xlabel(\"Value\")\n",
    "plt.ylabel(\"Frequency\")\n",
    "\n",
    "fig = plt.gcf()\n",
    "\n",
    "#plot_url = py.plot_mpl(fig, filename='mpl-basic-histogram')"
   ]
  },
  {
   "cell_type": "code",
   "execution_count": 55,
   "metadata": {
    "collapsed": true
   },
   "outputs": [],
   "source": [
    "def DataGenerator(dir,batchSize):\n",
    "    #dir = './session_data/'\n",
    "    with open(dir+'driving_log.csv', 'r') as drivingLog:\n",
    "        reader = csv.reader(drivingLog)\n",
    "        drivingLog = list(reader)\n",
    "    while True:\n",
    "        batchx , batchy= [], []\n",
    "        for row in drivingLog:\n",
    "            indx = np.random.permutation(3)\n",
    "            steering = float(row[3])\n",
    "\n",
    "            for i in range(3):\n",
    "                file = row[indx[i]]\n",
    "                img = ReadImage(dir+file)\n",
    "                if indx[i] is 1:\n",
    "                    steering += .25\n",
    "                elif indx[i] is 2:\n",
    "                    steering -= .25\n",
    "\n",
    "                #batchx.append(img / 127.5 - 1.)\n",
    "                batchx.append(img)\n",
    "                batchy.append(steering)\n",
    "\n",
    "                # Decrease Brightness\n",
    "\n",
    "                img[:, :, 2] = img[:,:,2] * .5\n",
    "                #img = img / 127.5 - 1.\n",
    "                batchx.append(img)\n",
    "                batchy.append(steering)\n",
    "\n",
    "                if (len(batchx) == batchSize):\n",
    "                    batchx[:] = [x - mean for x in batchx]\n",
    "                    if (dir == './session_data/'):\n",
    "                        global totalTrain\n",
    "                        totalTrain += len(batchx)\n",
    "                        print(\"Training: total: \", totalTrain)\n",
    "                    else:\n",
    "                        global totalValid\n",
    "                        totalValid += len(batchx)\n",
    "                        print(\"Validation: total: \", totalValid)\n",
    "                    yield (np.vstack(batchx),np.vstack(batchy))\n",
    "                    batchx, batchy= [],[]\n"
   ]
  },
  {
   "cell_type": "markdown",
   "metadata": {
    "collapsed": true
   },
   "source": []
  },
  {
   "cell_type": "code",
   "execution_count": 56,
   "metadata": {
    "collapsed": false
   },
   "outputs": [
    {
     "name": "stdout",
     "output_type": "stream",
     "text": [
      "Creating Convnet Model\n",
      "Creating FC Model\n"
     ]
    }
   ],
   "source": [
    "# TODO: Build a model\n",
    "print(\"Creating Convnet Model\")\n",
    "\n",
    "model = Sequential()\n",
    "model.add(Convolution2D(32, 5, 5, input_shape=(160, 320, 3), subsample=(1, 1)))\n",
    "model.add(MaxPooling2D((2, 2)))\n",
    "model.add(Activation('relu'))\n",
    "\n",
    "model.add(Convolution2D(48, 5, 5, subsample=(1, 1)))\n",
    "model.add(MaxPooling2D((2, 2)))\n",
    "model.add(Activation('relu'))\n",
    "\n",
    "model.add(Convolution2D(64, 5, 5, subsample=(2, 2)))\n",
    "model.add(MaxPooling2D((2, 2)))\n",
    "model.add(Activation('relu'))\n",
    "\n",
    "model.add(Convolution2D(128, 5, 5, subsample=(2, 2)))\n",
    "model.add(MaxPooling2D((2, 2)))\n",
    "model.add(Activation('relu'))\n",
    "\n",
    "print(\"Creating FC Model\")\n",
    "\n",
    "model.add(Flatten())\n",
    "\n",
    "model.add(Dense(2048, W_regularizer=l2(.01)))\n",
    "model.add(Activation('relu'))\n",
    "\n",
    "model.add(Dense(1024, W_regularizer=l2(.01)))\n",
    "model.add(Activation('relu'))\n",
    "\n",
    "model.add(Dense(512))\n",
    "model.add(Dropout(0.3))\n",
    "\n",
    "model.add(Dense(128, W_regularizer=l2(.01)))\n",
    "model.add(Activation('relu'))\n",
    "\n",
    "model.add(Dense(32, W_regularizer=l2(.01)))\n",
    "model.add(Activation('relu'))\n",
    "\n",
    "model.add(Dense(10, W_regularizer=l2(.01)))\n",
    "model.add(Activation('relu'))\n",
    "model.add(Dropout(0.5))\n",
    "\n",
    "model.add(Dense(1))"
   ]
  },
  {
   "cell_type": "markdown",
   "metadata": {
    "collapsed": true
   },
   "source": [
    "model.compile(optimizer=\"adam\", loss=\"mse\")\n",
    "\n",
    "#mean =  MeanCalculator() # calculated once\n",
    "print('mean: ',mean)\n",
    "totalTrain = 0\n",
    "totalValid = 0\n",
    "\n",
    "trainGenerator = DataGenerator('./session_data/',trainBatchSize)\n",
    "validGenerator = DataGenerator('./data/',validationBatchSize)\n",
    "\n",
    "print(\"Created generator and starting training\")\n",
    "\n",
    "model.fit_generator(\n",
    "\ttrainGenerator,\n",
    "\tsamples_per_epoch=train_samples_per_epoch, nb_epoch=50,\n",
    "\tvalidation_data=validGenerator,\n",
    "\tnb_val_samples=valid_samples_per_epoch, verbose=2\n",
    ")\n"
   ]
  },
  {
   "cell_type": "raw",
   "metadata": {},
   "source": []
  },
  {
   "cell_type": "markdown",
   "metadata": {
    "collapsed": true
   },
   "source": [
    "model.save_weights('kerasmodel', True)\n",
    "with open('kerasmodel.json', 'w') as file:\n",
    "\tjson.dump(model.to_json(), file)\n"
   ]
  },
  {
   "cell_type": "code",
   "execution_count": null,
   "metadata": {
    "collapsed": true
   },
   "outputs": [],
   "source": []
  },
  {
   "cell_type": "code",
   "execution_count": null,
   "metadata": {
    "collapsed": true
   },
   "outputs": [],
   "source": []
  },
  {
   "cell_type": "code",
   "execution_count": null,
   "metadata": {
    "collapsed": true
   },
   "outputs": [],
   "source": []
  }
 ],
 "metadata": {
  "anaconda-cloud": {},
  "kernelspec": {
   "display_name": "Python [default]",
   "language": "python",
   "name": "python3"
  },
  "language_info": {
   "codemirror_mode": {
    "name": "ipython",
    "version": 3
   },
   "file_extension": ".py",
   "mimetype": "text/x-python",
   "name": "python",
   "nbconvert_exporter": "python",
   "pygments_lexer": "ipython3",
   "version": "3.5.2"
  }
 },
 "nbformat": 4,
 "nbformat_minor": 2
}
