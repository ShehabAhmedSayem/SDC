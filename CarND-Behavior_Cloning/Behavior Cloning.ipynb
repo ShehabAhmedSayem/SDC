{
 "cells": [
  {
   "cell_type": "code",
   "execution_count": 25,
   "metadata": {
    "collapsed": false
   },
   "outputs": [],
   "source": [
    "#Imports\n",
    "import os\n",
    "import pickle\n",
    "\n",
    "import cv2\n",
    "import tensorflow as tf\n",
    "import numpy as np\n",
    "import json\n",
    "\n",
    "from skimage import transform as transf\n",
    "from sklearn.model_selection import train_test_split\n",
    "from sklearn.utils import shuffle\n",
    "\n",
    "import random\n",
    "import csv\n",
    "\n",
    "from keras.models import Sequential\n",
    "from keras.layers.core import Dense, Activation, Flatten, Dropout\n",
    "from keras.layers.convolutional import Convolution2D\n",
    "from keras.layers.pooling import MaxPooling2D\n",
    "from keras.regularizers import l2\n",
    "\n",
    "import matplotlib.pyplot as plt\n",
    "%matplotlib inline"
   ]
  },
  {
   "cell_type": "code",
   "execution_count": 26,
   "metadata": {
    "collapsed": true
   },
   "outputs": [],
   "source": [
    "train_samples_per_epoch = 16384\n",
    "valid_samples_per_epoch = 8192\n",
    "trainBatchSize = 128\n",
    "validationBatchSize = 128\n",
    "mean = 83.587824273 #Pre Calculated\n",
    "\n",
    "xCropUp = .35      # % of crop\n",
    "xCropBottom = .9   #\n",
    "\n",
    "imageWidth = 200\n",
    "imageHeight = 60\n",
    "list_imgs = []"
   ]
  },
  {
   "cell_type": "code",
   "execution_count": 27,
   "metadata": {
    "collapsed": true
   },
   "outputs": [],
   "source": [
    "def ReadAndProcessImage(path):\n",
    "    img = cv2.imread(path)  # opencv opens images in BGR format\n",
    "    global list_imgs\n",
    "    list_imgs.append(img)\n",
    "    print(img.shape)\n",
    "    img = CropImage(img)\n",
    "    img = cv2.resize(img, (imageWidth, imageHeight))\n",
    "    #img = cv2.cvtColor(img, cv2.COLOR_BGR2HSV)  # convert to standard RGB\n",
    "    img = np.reshape(img, (1, imageHeight, imageWidth, 3))\n",
    "    return img\n",
    "\n",
    "def crop_image(image, y1, y2, x1, x2):\n",
    "    \"\"\"\n",
    "    crop image into respective size\n",
    "    give: the crop extent\n",
    "    \"\"\"\n",
    "    return image[y1:y2, x1:x2]\n",
    "def CropImage(image):\n",
    "    height = len(image)\n",
    "    print(height)\n",
    "    return image[int(height*xCropUp):int(height*xCropBottom), :, :]\n",
    "\n",
    "def visualize_random_images(list_imgs):\n",
    "    '''\n",
    "    list_imgs = list of index of images to be visualized\n",
    "    '''\n",
    "    print(\"number of images: \",len(list_imgs))\n",
    "    _, ax = plt.subplots( int(len(list_imgs)/2), 2, figsize=(20,40))\n",
    "    row, col = 0, 0  \n",
    "    for idx in range(len(list_imgs)):\n",
    "        img = list_imgs[idx]\n",
    "        print('r,c: ',row,col,img.shape)\n",
    "        ax[row,col].imshow(img)\n",
    "        #ax[row, col].annotate(int(y_dataset[idx]), xy=(2, 5), color='red', fontsize='20')\n",
    "\n",
    "        ax[row,col].axis('off')\n",
    "        col += 1\n",
    "        if col == 2:\n",
    "            row += 1\n",
    "            col = 0\n",
    "    plt.show()"
   ]
  },
  {
   "cell_type": "code",
   "execution_count": 38,
   "metadata": {
    "collapsed": false
   },
   "outputs": [],
   "source": [
    "# visualize\n",
    "zero = 0\n",
    "value = []\n",
    "dir = './data/'\n",
    "with open(dir+'driving_log.csv', 'r') as drivingLog:\n",
    "    reader = csv.reader(drivingLog)\n",
    "    drivingLog = list(reader)\n",
    "    drivingLog = shuffle(drivingLog)\n",
    "    for row in drivingLog:\n",
    "        indx = np.random.permutation(3)\n",
    "        steering = float(row[3])\n",
    "        #value.append(steering)\n",
    "\n",
    "        for i in range(3):\n",
    "\n",
    "            if indx[i] is 1: # left camera image\n",
    "                steering = min(1,steering+.25)\n",
    "            elif indx[i] is 2: # right camera image\n",
    "                steering = max(-1, steering-.25)\n",
    "\n",
    "            file = row[indx[i]]\n",
    "\n",
    "            if (steering >= -0.95 and steering <= 0.05):\n",
    "                #if(zero%10 == 0):\n",
    "                #    value.append(steering)\n",
    "                zero+=1\n",
    "\n",
    "            else:\n",
    "\n",
    "#                value.append(steering)\n",
    "\n",
    "                value.append(steering)\n",
    "\n",
    "                value.append(-steering)\n",
    "        \n",
    "            "
   ]
  },
  {
   "cell_type": "code",
   "execution_count": 39,
   "metadata": {
    "collapsed": false
   },
   "outputs": [
    {
     "data": {
      "image/png": "[encoded data removed]",
      "text/plain": [
       "<matplotlib.figure.Figure at 0x17e6ee486d8>"
      ]
     },
     "metadata": {},
     "output_type": "display_data"
    }
   ],
   "source": [
    "import matplotlib.pyplot as plt\n",
    "import numpy as np\n",
    "\n",
    "#import plotly.plotly as py\n",
    "# Learn about API authentication here: https://plot.ly/python/getting-started\n",
    "# Find your api_key here: https://plot.ly/settings/api\n",
    "\n",
    "\n",
    "plt.hist(value)\n",
    "plt.title(\"Gaussian Histogram\")\n",
    "plt.xlabel(\"Value\")\n",
    "plt.ylabel(\"Frequency\")\n",
    "\n",
    "fig = plt.gcf()\n",
    "\n",
    "#plot_url = py.plot_mpl(fig, filename='mpl-basic-histogram')"
   ]
  },
  {
   "cell_type": "code",
   "execution_count": 31,
   "metadata": {
    "collapsed": false
   },
   "outputs": [
    {
     "name": "stdout",
     "output_type": "stream",
     "text": [
      "<class 'int'>\n"
     ]
    }
   ],
   "source": [
    "# visualize\n",
    "\n",
    "values = []\n",
    "\n",
    "dir = './data/'\n",
    "with open(dir+'driving_log.csv', 'r') as drivingLog:\n",
    "    reader = csv.reader(drivingLog)\n",
    "    drivingLog = list(reader)\n",
    "    drivingLog = shuffle(drivingLog)\n",
    "    batchx , batchy= [], []\n",
    "    ind = 0\n",
    "    row, col = 0, 0 \n",
    "    print(type(row))\n",
    "    for row in drivingLog:\n",
    "        indx = np.random.permutation(3)\n",
    "        steering = float(row[3])\n",
    "        values.append(steering)\n",
    "            \n",
    "            \n",
    "            \n",
    "        #if(ind == 2):\n",
    "        #    break\n",
    "    #visualize_random_images(list_imgs)\n",
    "            "
   ]
  },
  {
   "cell_type": "code",
   "execution_count": 16,
   "metadata": {
    "collapsed": false
   },
   "outputs": [
    {
     "data": {
      "image/png": "[encoded data removed]",
      "text/plain": [
       "<matplotlib.figure.Figure at 0x17e6f21c780>"
      ]
     },
     "metadata": {},
     "output_type": "display_data"
    }
   ],
   "source": [
    "import matplotlib.pyplot as plt\n",
    "import numpy as np\n",
    "\n",
    "#import plotly.plotly as py\n",
    "# Learn about API authentication here: https://plot.ly/python/getting-started\n",
    "# Find your api_key here: https://plot.ly/settings/api\n",
    "\n",
    "gaussian_numbers = np.random.randn(1000)\n",
    "plt.hist(values)\n",
    "plt.title(\"Gaussian Histogram\")\n",
    "plt.xlabel(\"Value\")\n",
    "plt.ylabel(\"Frequency\")\n",
    "\n",
    "fig = plt.gcf()\n",
    "\n",
    "#plot_url = py.plot_mpl(fig, filename='mpl-basic-histogram')"
   ]
  },
  {
   "cell_type": "code",
   "execution_count": null,
   "metadata": {
    "collapsed": true
   },
   "outputs": [],
   "source": [
    "def DataGenerator(dir,batchSize):\n",
    "    #dir = './session_data/'\n",
    "    with open(dir+'driving_log.csv', 'r') as drivingLog:\n",
    "        reader = csv.reader(drivingLog)\n",
    "        drivingLog = list(reader)\n",
    "    while True:\n",
    "        batchx , batchy= [], []\n",
    "        for row in drivingLog:\n",
    "            indx = np.random.permutation(3)\n",
    "            steering = float(row[3])\n",
    "\n",
    "            for i in range(3):\n",
    "                file = row[indx[i]]\n",
    "                img = ReadImage(dir+file)\n",
    "                if indx[i] is 1:\n",
    "                    steering += .25\n",
    "                elif indx[i] is 2:\n",
    "                    steering -= .25\n",
    "\n",
    "                #batchx.append(img / 127.5 - 1.)\n",
    "                batchx.append(img)\n",
    "                batchy.append(steering)\n",
    "\n",
    "                # Decrease Brightness\n",
    "\n",
    "                img[:, :, 2] = img[:,:,2] * .5\n",
    "                #img = img / 127.5 - 1.\n",
    "                batchx.append(img)\n",
    "                batchy.append(steering)\n",
    "\n",
    "                if (len(batchx) == batchSize):\n",
    "                    batchx[:] = [x - mean for x in batchx]\n",
    "                    if (dir == './session_data/'):\n",
    "                        global totalTrain\n",
    "                        totalTrain += len(batchx)\n",
    "                        print(\"Training: total: \", totalTrain)\n",
    "                    else:\n",
    "                        global totalValid\n",
    "                        totalValid += len(batchx)\n",
    "                        print(\"Validation: total: \", totalValid)\n",
    "                    yield (np.vstack(batchx),np.vstack(batchy))\n",
    "                    batchx, batchy= [],[]\n"
   ]
  },
  {
   "cell_type": "markdown",
   "metadata": {
    "collapsed": true
   },
   "source": []
  },
  {
   "cell_type": "code",
   "execution_count": null,
   "metadata": {
    "collapsed": true
   },
   "outputs": [],
   "source": [
    "# TODO: Build a model\n",
    "print(\"Creating Convnet Model\")\n",
    "\n",
    "model = Sequential()\n",
    "model.add(Convolution2D(32, 5, 5, input_shape=(160, 320, 3), subsample=(1, 1)))\n",
    "model.add(MaxPooling2D((2, 2)))\n",
    "model.add(Activation('relu'))\n",
    "\n",
    "model.add(Convolution2D(48, 5, 5, subsample=(1, 1)))\n",
    "model.add(MaxPooling2D((2, 2)))\n",
    "model.add(Activation('relu'))\n",
    "\n",
    "model.add(Convolution2D(64, 5, 5, subsample=(2, 2)))\n",
    "model.add(MaxPooling2D((2, 2)))\n",
    "model.add(Activation('relu'))\n",
    "\n",
    "model.add(Convolution2D(128, 5, 5, subsample=(2, 2)))\n",
    "model.add(MaxPooling2D((2, 2)))\n",
    "model.add(Activation('relu'))\n",
    "\n",
    "print(\"Creating FC Model\")\n",
    "\n",
    "model.add(Flatten())\n",
    "\n",
    "model.add(Dense(2048, W_regularizer=l2(.01)))\n",
    "model.add(Activation('relu'))\n",
    "\n",
    "model.add(Dense(1024, W_regularizer=l2(.01)))\n",
    "model.add(Activation('relu'))\n",
    "\n",
    "model.add(Dense(512))\n",
    "model.add(Dropout(0.3))\n",
    "\n",
    "model.add(Dense(128, W_regularizer=l2(.01)))\n",
    "model.add(Activation('relu'))\n",
    "\n",
    "model.add(Dense(32, W_regularizer=l2(.01)))\n",
    "model.add(Activation('relu'))\n",
    "\n",
    "model.add(Dense(10, W_regularizer=l2(.01)))\n",
    "model.add(Activation('relu'))\n",
    "model.add(Dropout(0.5))\n",
    "\n",
    "model.add(Dense(1))"
   ]
  },
  {
   "cell_type": "markdown",
   "metadata": {
    "collapsed": true
   },
   "source": [
    "model.compile(optimizer=\"adam\", loss=\"mse\")\n",
    "\n",
    "#mean =  MeanCalculator() # calculated once\n",
    "print('mean: ',mean)\n",
    "totalTrain = 0\n",
    "totalValid = 0\n",
    "\n",
    "trainGenerator = DataGenerator('./session_data/',trainBatchSize)\n",
    "validGenerator = DataGenerator('./data/',validationBatchSize)\n",
    "\n",
    "print(\"Created generator and starting training\")\n",
    "\n",
    "model.fit_generator(\n",
    "\ttrainGenerator,\n",
    "\tsamples_per_epoch=train_samples_per_epoch, nb_epoch=50,\n",
    "\tvalidation_data=validGenerator,\n",
    "\tnb_val_samples=valid_samples_per_epoch, verbose=2\n",
    ")\n"
   ]
  },
  {
   "cell_type": "raw",
   "metadata": {},
   "source": []
  },
  {
   "cell_type": "markdown",
   "metadata": {
    "collapsed": true
   },
   "source": [
    "model.save_weights('kerasmodel', True)\n",
    "with open('kerasmodel.json', 'w') as file:\n",
    "\tjson.dump(model.to_json(), file)\n"
   ]
  }
 ],
 "metadata": {
  "anaconda-cloud": {},
  "kernelspec": {
   "display_name": "Python [default]",
   "language": "python",
   "name": "python3"
  },
  "language_info": {
   "codemirror_mode": {
    "name": "ipython",
    "version": 3
   },
   "file_extension": ".py",
   "mimetype": "text/x-python",
   "name": "python",
   "nbconvert_exporter": "python",
   "pygments_lexer": "ipython3",
   "version": "3.5.2"
  }
 },
 "nbformat": 4,
 "nbformat_minor": 2
}
